{
  "nbformat": 4,
  "nbformat_minor": 0,
  "metadata": {
    "colab": {
      "provenance": [],
      "collapsed_sections": [
        "I1zVEZtjNpX6"
      ]
    },
    "kernelspec": {
      "name": "python3",
      "display_name": "Python 3"
    },
    "language_info": {
      "name": "python"
    }
  },
  "cells": [
    {
      "cell_type": "code",
      "execution_count": null,
      "metadata": {
        "colab": {
          "base_uri": "https://localhost:8080/"
        },
        "id": "ojkcaLe9mjao",
        "outputId": "e746fcb7-d3ef-492d-ca7b-a11f7d9099c4"
      },
      "outputs": [
        {
          "output_type": "stream",
          "name": "stdout",
          "text": [
            "Mounted at /content/drive\n"
          ]
        }
      ],
      "source": [
        "from google.colab import drive\n",
        "drive.mount('/content/drive')"
      ]
    },
    {
      "cell_type": "markdown",
      "source": [
        "### Set-up environment"
      ],
      "metadata": {
        "id": "I1zVEZtjNpX6"
      }
    },
    {
      "cell_type": "code",
      "source": [
        "import os\n",
        "PATH_TO_FOLDER = '/content/drive/MyDrive/2024/Projects/IDS/supervision/KEN4131/Team 16 - Tab Anno'\n",
        "os.chdir(PATH_TO_FOLDER)"
      ],
      "metadata": {
        "id": "S7pR0X5nmq5R"
      },
      "execution_count": null,
      "outputs": []
    },
    {
      "cell_type": "code",
      "source": [
        "os.listdir()"
      ],
      "metadata": {
        "colab": {
          "base_uri": "https://localhost:8080/"
        },
        "id": "tD_IXy33mvVf",
        "outputId": "b4fee49a-6b55-408a-ff62-54c2af3c82fb"
      },
      "execution_count": null,
      "outputs": [
        {
          "output_type": "execute_result",
          "data": {
            "text/plain": [
              "['Student Master Projects 2024 - ShervinMehryar.gdoc',\n",
              " 'presentations',\n",
              " 'reports',\n",
              " 'Project Plan - Team 16 TA.gsheet',\n",
              " 'data',\n",
              " 'code',\n",
              " 'papers']"
            ]
          },
          "metadata": {},
          "execution_count": 3
        }
      ]
    },
    {
      "cell_type": "code",
      "source": [
        "import pandas as pd\n",
        "import pickle\n",
        "from matplotlib import pyplot as plt"
      ],
      "metadata": {
        "id": "OKkGyyimmw9n"
      },
      "execution_count": null,
      "outputs": []
    },
    {
      "cell_type": "code",
      "source": [
        "data_path = './data/'"
      ],
      "metadata": {
        "id": "XFYft7wDm1ll"
      },
      "execution_count": null,
      "outputs": []
    },
    {
      "cell_type": "markdown",
      "source": [
        "### Load Prescriptions.csv"
      ],
      "metadata": {
        "id": "iTs1d3mj7h7M"
      }
    },
    {
      "cell_type": "code",
      "source": [
        "# Load the list of Cardiovascular Admissions IDs\n",
        "with open(data_path+'list_of_cvd_hadm.pk','rb') as f:\n",
        "    cv_hadm_id_list = pickle.load(f)"
      ],
      "metadata": {
        "id": "eNYWt7Zmm6vX"
      },
      "execution_count": null,
      "outputs": []
    },
    {
      "cell_type": "code",
      "source": [
        "def load_mimic_table_by_name(path,filename):\n",
        "# Helper function to load a pandas dataframe based on extention\n",
        "\n",
        "    if filename.split('.')[-1] == 'csv':\n",
        "        df = pd.read_csv(path+filename)\n",
        "    else:\n",
        "        df = pd.read_csv(path+filename,compression = 'gzip')\n",
        "\n",
        "    return df\n"
      ],
      "metadata": {
        "id": "-wFs6nqFnDrQ"
      },
      "execution_count": null,
      "outputs": []
    },
    {
      "cell_type": "markdown",
      "source": [
        "### Clean Data"
      ],
      "metadata": {
        "id": "XWqe5RTjJkrT"
      }
    },
    {
      "cell_type": "code",
      "source": [
        "df = load_mimic_table_by_name(data_path,'PRESCRIPTIONS.csv')"
      ],
      "metadata": {
        "id": "7ePrys_TnRHY"
      },
      "execution_count": null,
      "outputs": []
    },
    {
      "cell_type": "code",
      "source": [
        "# view columns\n",
        "df.columns"
      ],
      "metadata": {
        "colab": {
          "base_uri": "https://localhost:8080/"
        },
        "id": "VHCwz2kRnijA",
        "outputId": "3265d315-f08f-40f3-f492-1ffe46d470fc"
      },
      "execution_count": null,
      "outputs": [
        {
          "output_type": "execute_result",
          "data": {
            "text/plain": [
              "Index(['row_id', 'subject_id', 'hadm_id', 'icustay_id', 'startdate', 'enddate',\n",
              "       'drug_type', 'drug', 'drug_name_poe', 'drug_name_generic',\n",
              "       'formulary_drug_cd', 'gsn', 'ndc', 'prod_strength', 'dose_val_rx',\n",
              "       'dose_unit_rx', 'form_val_disp', 'form_unit_disp', 'route'],\n",
              "      dtype='object')"
            ]
          },
          "metadata": {},
          "execution_count": 9
        }
      ]
    },
    {
      "cell_type": "code",
      "source": [
        "# Select a subset of patients records related to Cardiovascular admissions\n",
        "df__cvd_subset = df[df['hadm_id'].isin(cv_hadm_id_list)] # new dataframe\n",
        "list_of_patients = list(df__cvd_subset['subject_id'].unique())"
      ],
      "metadata": {
        "id": "HP3M55WXnVe_"
      },
      "execution_count": null,
      "outputs": []
    },
    {
      "cell_type": "code",
      "source": [
        "patient_id = list_of_patients[0] # select one patient"
      ],
      "metadata": {
        "id": "qWoDDcIknqw7"
      },
      "execution_count": null,
      "outputs": []
    },
    {
      "cell_type": "code",
      "source": [
        "patient_id"
      ],
      "metadata": {
        "colab": {
          "base_uri": "https://localhost:8080/"
        },
        "id": "4YU0pBj1nvej",
        "outputId": "2d02fc9a-ce61-4e08-9100-2f61097e7cd1"
      },
      "execution_count": null,
      "outputs": [
        {
          "output_type": "execute_result",
          "data": {
            "text/plain": [
              "43735"
            ]
          },
          "metadata": {},
          "execution_count": 12
        }
      ]
    },
    {
      "cell_type": "code",
      "source": [
        "# Extract records for the patient\n",
        "df_per_patient = df__cvd_subset[df__cvd_subset['subject_id'] == patient_id]\n",
        "\n",
        "# Choose relevant columns\n",
        "selected_columns = ['hadm_id','icustay_id','drug_type','drug','prod_strength','dose_val_rx','dose_unit_rx','form_val_disp','route']\n",
        "\n",
        "# Write records to patient's folder\n",
        "df_per_patient[selected_columns].to_csv(data_path+'patients/'+str(patient_id)+'/drug_raw.csv' )"
      ],
      "metadata": {
        "id": "a2OmtIRpnyWU"
      },
      "execution_count": null,
      "outputs": []
    },
    {
      "cell_type": "code",
      "source": [
        "df_per_patient.head(10)"
      ],
      "metadata": {
        "colab": {
          "base_uri": "https://localhost:8080/",
          "height": 730
        },
        "id": "5JI3RgLDJfG5",
        "outputId": "a141bad9-a9ee-4fa8-d7f1-848572414bdf"
      },
      "execution_count": null,
      "outputs": [
        {
          "output_type": "execute_result",
          "data": {
            "text/plain": [
              "    row_id  subject_id  hadm_id  icustay_id            startdate  \\\n",
              "35   86431       43735   112662         NaN  2128-11-04 00:00:00   \n",
              "36   86432       43735   112662         NaN  2128-11-04 00:00:00   \n",
              "37   86433       43735   112662         NaN  2128-11-04 00:00:00   \n",
              "38   86434       43735   112662         NaN  2128-11-04 00:00:00   \n",
              "39   86435       43735   112662         NaN  2128-11-04 00:00:00   \n",
              "40   86436       43735   112662         NaN  2128-11-04 00:00:00   \n",
              "41   86571       43735   112662         NaN  2128-11-04 00:00:00   \n",
              "42   86572       43735   112662         NaN  2128-11-04 00:00:00   \n",
              "43   86573       43735   112662         NaN  2128-11-04 00:00:00   \n",
              "44   86574       43735   112662         NaN  2128-11-04 00:00:00   \n",
              "\n",
              "                enddate drug_type                         drug  \\\n",
              "35  2128-11-09 00:00:00      MAIN  Pneumococcal Vac Polyvalent   \n",
              "36  2128-11-09 00:00:00      MAIN  Heparin Flush (10 units/ml)   \n",
              "37  2128-11-09 00:00:00      MAIN                Multivitamins   \n",
              "38  2128-11-09 00:00:00      MAIN              Ferrous Sulfate   \n",
              "39  2128-11-09 00:00:00      MAIN      Ipratropium Bromide Neb   \n",
              "40  2128-11-09 00:00:00      MAIN    Albuterol 0.083% Neb Soln   \n",
              "41  2128-11-09 00:00:00      MAIN                   Sertraline   \n",
              "42  2128-11-09 00:00:00      MAIN                  Simvastatin   \n",
              "43  2128-11-09 00:00:00      MAIN         Levothyroxine Sodium   \n",
              "44  2128-11-09 00:00:00      MAIN                  Allopurinol   \n",
              "\n",
              "                  drug_name_poe            drug_name_generic  \\\n",
              "35  Pneumococcal Vac Polyvalent  PNEUMOcoccal Vac Polyvalent   \n",
              "36  Heparin Flush (10 units/ml)  Heparin Flush (10 Units/mL)   \n",
              "37                Multivitamins                Multivitamins   \n",
              "38              Ferrous Sulfate              Ferrous Sulfate   \n",
              "39      Ipratropium Bromide Neb      Ipratropium Bromide Neb   \n",
              "40    Albuterol 0.083% Neb Soln    Albuterol 0.083% Neb Soln   \n",
              "41                   Sertraline                   Sertraline   \n",
              "42                  Simvastatin                  Simvastatin   \n",
              "43         Levothyroxine Sodium         Levothyroxine Sodium   \n",
              "44                  Allopurinol                  Allopurinol   \n",
              "\n",
              "   formulary_drug_cd      gsn           ndc               prod_strength  \\\n",
              "35           PNEU25I  48548.0  6.494300e+06            25mcg/0.5mL Vial   \n",
              "36         HEPA10SYR  60304.0  8.290036e+09  10 Units/mL - 5 mL Syringe   \n",
              "37               MVI   2532.0  9.040531e+08                    1 Tablet   \n",
              "38           FERR325   1645.0  1.824029e+08               325 mg Tablet   \n",
              "39            IPRA2H  21700.0  4.879801e+08                  2.5mL Vial   \n",
              "40            ALBU3H   5039.0  4.950207e+10             0.083%;3mL Vial   \n",
              "41           SERT100  46228.0  9.045868e+08                100mg Tablet   \n",
              "42            SIMV40  16579.0  5.107905e+10                 40mg Tablet   \n",
              "43           LEVO100   6651.0  7.466241e+07               100mcg Tablet   \n",
              "44           ALLO100   2535.0  5.107902e+10                   100mg Tab   \n",
              "\n",
              "   dose_val_rx dose_unit_rx form_val_disp form_unit_disp route  \n",
              "35         0.5           mL             1           VIAL    IM  \n",
              "36           1           mL           0.2            SYR    IV  \n",
              "37           1          TAB             1            TAB    PO  \n",
              "38         325           mg             1            TAB    PO  \n",
              "39           1          NEB             1           VIAL    IH  \n",
              "40           1          NEB             1           VIAL    IH  \n",
              "41         100           mg             1            TAB    PO  \n",
              "42          80           mg             2            TAB    PO  \n",
              "43         200          mcg             2            TAB    PO  \n",
              "44         100           mg             1            TAB    PO  "
            ],
            "text/html": [
              "\n",
              "  <div id=\"df-113c9513-e6b9-432a-88c7-bc2c73adfac9\" class=\"colab-df-container\">\n",
              "    <div>\n",
              "<style scoped>\n",
              "    .dataframe tbody tr th:only-of-type {\n",
              "        vertical-align: middle;\n",
              "    }\n",
              "\n",
              "    .dataframe tbody tr th {\n",
              "        vertical-align: top;\n",
              "    }\n",
              "\n",
              "    .dataframe thead th {\n",
              "        text-align: right;\n",
              "    }\n",
              "</style>\n",
              "<table border=\"1\" class=\"dataframe\">\n",
              "  <thead>\n",
              "    <tr style=\"text-align: right;\">\n",
              "      <th></th>\n",
              "      <th>row_id</th>\n",
              "      <th>subject_id</th>\n",
              "      <th>hadm_id</th>\n",
              "      <th>icustay_id</th>\n",
              "      <th>startdate</th>\n",
              "      <th>enddate</th>\n",
              "      <th>drug_type</th>\n",
              "      <th>drug</th>\n",
              "      <th>drug_name_poe</th>\n",
              "      <th>drug_name_generic</th>\n",
              "      <th>formulary_drug_cd</th>\n",
              "      <th>gsn</th>\n",
              "      <th>ndc</th>\n",
              "      <th>prod_strength</th>\n",
              "      <th>dose_val_rx</th>\n",
              "      <th>dose_unit_rx</th>\n",
              "      <th>form_val_disp</th>\n",
              "      <th>form_unit_disp</th>\n",
              "      <th>route</th>\n",
              "    </tr>\n",
              "  </thead>\n",
              "  <tbody>\n",
              "    <tr>\n",
              "      <th>35</th>\n",
              "      <td>86431</td>\n",
              "      <td>43735</td>\n",
              "      <td>112662</td>\n",
              "      <td>NaN</td>\n",
              "      <td>2128-11-04 00:00:00</td>\n",
              "      <td>2128-11-09 00:00:00</td>\n",
              "      <td>MAIN</td>\n",
              "      <td>Pneumococcal Vac Polyvalent</td>\n",
              "      <td>Pneumococcal Vac Polyvalent</td>\n",
              "      <td>PNEUMOcoccal Vac Polyvalent</td>\n",
              "      <td>PNEU25I</td>\n",
              "      <td>48548.0</td>\n",
              "      <td>6.494300e+06</td>\n",
              "      <td>25mcg/0.5mL Vial</td>\n",
              "      <td>0.5</td>\n",
              "      <td>mL</td>\n",
              "      <td>1</td>\n",
              "      <td>VIAL</td>\n",
              "      <td>IM</td>\n",
              "    </tr>\n",
              "    <tr>\n",
              "      <th>36</th>\n",
              "      <td>86432</td>\n",
              "      <td>43735</td>\n",
              "      <td>112662</td>\n",
              "      <td>NaN</td>\n",
              "      <td>2128-11-04 00:00:00</td>\n",
              "      <td>2128-11-09 00:00:00</td>\n",
              "      <td>MAIN</td>\n",
              "      <td>Heparin Flush (10 units/ml)</td>\n",
              "      <td>Heparin Flush (10 units/ml)</td>\n",
              "      <td>Heparin Flush (10 Units/mL)</td>\n",
              "      <td>HEPA10SYR</td>\n",
              "      <td>60304.0</td>\n",
              "      <td>8.290036e+09</td>\n",
              "      <td>10 Units/mL - 5 mL Syringe</td>\n",
              "      <td>1</td>\n",
              "      <td>mL</td>\n",
              "      <td>0.2</td>\n",
              "      <td>SYR</td>\n",
              "      <td>IV</td>\n",
              "    </tr>\n",
              "    <tr>\n",
              "      <th>37</th>\n",
              "      <td>86433</td>\n",
              "      <td>43735</td>\n",
              "      <td>112662</td>\n",
              "      <td>NaN</td>\n",
              "      <td>2128-11-04 00:00:00</td>\n",
              "      <td>2128-11-09 00:00:00</td>\n",
              "      <td>MAIN</td>\n",
              "      <td>Multivitamins</td>\n",
              "      <td>Multivitamins</td>\n",
              "      <td>Multivitamins</td>\n",
              "      <td>MVI</td>\n",
              "      <td>2532.0</td>\n",
              "      <td>9.040531e+08</td>\n",
              "      <td>1 Tablet</td>\n",
              "      <td>1</td>\n",
              "      <td>TAB</td>\n",
              "      <td>1</td>\n",
              "      <td>TAB</td>\n",
              "      <td>PO</td>\n",
              "    </tr>\n",
              "    <tr>\n",
              "      <th>38</th>\n",
              "      <td>86434</td>\n",
              "      <td>43735</td>\n",
              "      <td>112662</td>\n",
              "      <td>NaN</td>\n",
              "      <td>2128-11-04 00:00:00</td>\n",
              "      <td>2128-11-09 00:00:00</td>\n",
              "      <td>MAIN</td>\n",
              "      <td>Ferrous Sulfate</td>\n",
              "      <td>Ferrous Sulfate</td>\n",
              "      <td>Ferrous Sulfate</td>\n",
              "      <td>FERR325</td>\n",
              "      <td>1645.0</td>\n",
              "      <td>1.824029e+08</td>\n",
              "      <td>325 mg Tablet</td>\n",
              "      <td>325</td>\n",
              "      <td>mg</td>\n",
              "      <td>1</td>\n",
              "      <td>TAB</td>\n",
              "      <td>PO</td>\n",
              "    </tr>\n",
              "    <tr>\n",
              "      <th>39</th>\n",
              "      <td>86435</td>\n",
              "      <td>43735</td>\n",
              "      <td>112662</td>\n",
              "      <td>NaN</td>\n",
              "      <td>2128-11-04 00:00:00</td>\n",
              "      <td>2128-11-09 00:00:00</td>\n",
              "      <td>MAIN</td>\n",
              "      <td>Ipratropium Bromide Neb</td>\n",
              "      <td>Ipratropium Bromide Neb</td>\n",
              "      <td>Ipratropium Bromide Neb</td>\n",
              "      <td>IPRA2H</td>\n",
              "      <td>21700.0</td>\n",
              "      <td>4.879801e+08</td>\n",
              "      <td>2.5mL Vial</td>\n",
              "      <td>1</td>\n",
              "      <td>NEB</td>\n",
              "      <td>1</td>\n",
              "      <td>VIAL</td>\n",
              "      <td>IH</td>\n",
              "    </tr>\n",
              "    <tr>\n",
              "      <th>40</th>\n",
              "      <td>86436</td>\n",
              "      <td>43735</td>\n",
              "      <td>112662</td>\n",
              "      <td>NaN</td>\n",
              "      <td>2128-11-04 00:00:00</td>\n",
              "      <td>2128-11-09 00:00:00</td>\n",
              "      <td>MAIN</td>\n",
              "      <td>Albuterol 0.083% Neb Soln</td>\n",
              "      <td>Albuterol 0.083% Neb Soln</td>\n",
              "      <td>Albuterol 0.083% Neb Soln</td>\n",
              "      <td>ALBU3H</td>\n",
              "      <td>5039.0</td>\n",
              "      <td>4.950207e+10</td>\n",
              "      <td>0.083%;3mL Vial</td>\n",
              "      <td>1</td>\n",
              "      <td>NEB</td>\n",
              "      <td>1</td>\n",
              "      <td>VIAL</td>\n",
              "      <td>IH</td>\n",
              "    </tr>\n",
              "    <tr>\n",
              "      <th>41</th>\n",
              "      <td>86571</td>\n",
              "      <td>43735</td>\n",
              "      <td>112662</td>\n",
              "      <td>NaN</td>\n",
              "      <td>2128-11-04 00:00:00</td>\n",
              "      <td>2128-11-09 00:00:00</td>\n",
              "      <td>MAIN</td>\n",
              "      <td>Sertraline</td>\n",
              "      <td>Sertraline</td>\n",
              "      <td>Sertraline</td>\n",
              "      <td>SERT100</td>\n",
              "      <td>46228.0</td>\n",
              "      <td>9.045868e+08</td>\n",
              "      <td>100mg Tablet</td>\n",
              "      <td>100</td>\n",
              "      <td>mg</td>\n",
              "      <td>1</td>\n",
              "      <td>TAB</td>\n",
              "      <td>PO</td>\n",
              "    </tr>\n",
              "    <tr>\n",
              "      <th>42</th>\n",
              "      <td>86572</td>\n",
              "      <td>43735</td>\n",
              "      <td>112662</td>\n",
              "      <td>NaN</td>\n",
              "      <td>2128-11-04 00:00:00</td>\n",
              "      <td>2128-11-09 00:00:00</td>\n",
              "      <td>MAIN</td>\n",
              "      <td>Simvastatin</td>\n",
              "      <td>Simvastatin</td>\n",
              "      <td>Simvastatin</td>\n",
              "      <td>SIMV40</td>\n",
              "      <td>16579.0</td>\n",
              "      <td>5.107905e+10</td>\n",
              "      <td>40mg Tablet</td>\n",
              "      <td>80</td>\n",
              "      <td>mg</td>\n",
              "      <td>2</td>\n",
              "      <td>TAB</td>\n",
              "      <td>PO</td>\n",
              "    </tr>\n",
              "    <tr>\n",
              "      <th>43</th>\n",
              "      <td>86573</td>\n",
              "      <td>43735</td>\n",
              "      <td>112662</td>\n",
              "      <td>NaN</td>\n",
              "      <td>2128-11-04 00:00:00</td>\n",
              "      <td>2128-11-09 00:00:00</td>\n",
              "      <td>MAIN</td>\n",
              "      <td>Levothyroxine Sodium</td>\n",
              "      <td>Levothyroxine Sodium</td>\n",
              "      <td>Levothyroxine Sodium</td>\n",
              "      <td>LEVO100</td>\n",
              "      <td>6651.0</td>\n",
              "      <td>7.466241e+07</td>\n",
              "      <td>100mcg Tablet</td>\n",
              "      <td>200</td>\n",
              "      <td>mcg</td>\n",
              "      <td>2</td>\n",
              "      <td>TAB</td>\n",
              "      <td>PO</td>\n",
              "    </tr>\n",
              "    <tr>\n",
              "      <th>44</th>\n",
              "      <td>86574</td>\n",
              "      <td>43735</td>\n",
              "      <td>112662</td>\n",
              "      <td>NaN</td>\n",
              "      <td>2128-11-04 00:00:00</td>\n",
              "      <td>2128-11-09 00:00:00</td>\n",
              "      <td>MAIN</td>\n",
              "      <td>Allopurinol</td>\n",
              "      <td>Allopurinol</td>\n",
              "      <td>Allopurinol</td>\n",
              "      <td>ALLO100</td>\n",
              "      <td>2535.0</td>\n",
              "      <td>5.107902e+10</td>\n",
              "      <td>100mg Tab</td>\n",
              "      <td>100</td>\n",
              "      <td>mg</td>\n",
              "      <td>1</td>\n",
              "      <td>TAB</td>\n",
              "      <td>PO</td>\n",
              "    </tr>\n",
              "  </tbody>\n",
              "</table>\n",
              "</div>\n",
              "    <div class=\"colab-df-buttons\">\n",
              "\n",
              "  <div class=\"colab-df-container\">\n",
              "    <button class=\"colab-df-convert\" onclick=\"convertToInteractive('df-113c9513-e6b9-432a-88c7-bc2c73adfac9')\"\n",
              "            title=\"Convert this dataframe to an interactive table.\"\n",
              "            style=\"display:none;\">\n",
              "\n",
              "  <svg xmlns=\"http://www.w3.org/2000/svg\" height=\"24px\" viewBox=\"0 -960 960 960\">\n",
              "    <path d=\"M120-120v-720h720v720H120Zm60-500h600v-160H180v160Zm220 220h160v-160H400v160Zm0 220h160v-160H400v160ZM180-400h160v-160H180v160Zm440 0h160v-160H620v160ZM180-180h160v-160H180v160Zm440 0h160v-160H620v160Z\"/>\n",
              "  </svg>\n",
              "    </button>\n",
              "\n",
              "  <style>\n",
              "    .colab-df-container {\n",
              "      display:flex;\n",
              "      gap: 12px;\n",
              "    }\n",
              "\n",
              "    .colab-df-convert {\n",
              "      background-color: #E8F0FE;\n",
              "      border: none;\n",
              "      border-radius: 50%;\n",
              "      cursor: pointer;\n",
              "      display: none;\n",
              "      fill: #1967D2;\n",
              "      height: 32px;\n",
              "      padding: 0 0 0 0;\n",
              "      width: 32px;\n",
              "    }\n",
              "\n",
              "    .colab-df-convert:hover {\n",
              "      background-color: #E2EBFA;\n",
              "      box-shadow: 0px 1px 2px rgba(60, 64, 67, 0.3), 0px 1px 3px 1px rgba(60, 64, 67, 0.15);\n",
              "      fill: #174EA6;\n",
              "    }\n",
              "\n",
              "    .colab-df-buttons div {\n",
              "      margin-bottom: 4px;\n",
              "    }\n",
              "\n",
              "    [theme=dark] .colab-df-convert {\n",
              "      background-color: #3B4455;\n",
              "      fill: #D2E3FC;\n",
              "    }\n",
              "\n",
              "    [theme=dark] .colab-df-convert:hover {\n",
              "      background-color: #434B5C;\n",
              "      box-shadow: 0px 1px 3px 1px rgba(0, 0, 0, 0.15);\n",
              "      filter: drop-shadow(0px 1px 2px rgba(0, 0, 0, 0.3));\n",
              "      fill: #FFFFFF;\n",
              "    }\n",
              "  </style>\n",
              "\n",
              "    <script>\n",
              "      const buttonEl =\n",
              "        document.querySelector('#df-113c9513-e6b9-432a-88c7-bc2c73adfac9 button.colab-df-convert');\n",
              "      buttonEl.style.display =\n",
              "        google.colab.kernel.accessAllowed ? 'block' : 'none';\n",
              "\n",
              "      async function convertToInteractive(key) {\n",
              "        const element = document.querySelector('#df-113c9513-e6b9-432a-88c7-bc2c73adfac9');\n",
              "        const dataTable =\n",
              "          await google.colab.kernel.invokeFunction('convertToInteractive',\n",
              "                                                    [key], {});\n",
              "        if (!dataTable) return;\n",
              "\n",
              "        const docLinkHtml = 'Like what you see? Visit the ' +\n",
              "          '<a target=\"_blank\" href=https://colab.research.google.com/notebooks/data_table.ipynb>data table notebook</a>'\n",
              "          + ' to learn more about interactive tables.';\n",
              "        element.innerHTML = '';\n",
              "        dataTable['output_type'] = 'display_data';\n",
              "        await google.colab.output.renderOutput(dataTable, element);\n",
              "        const docLink = document.createElement('div');\n",
              "        docLink.innerHTML = docLinkHtml;\n",
              "        element.appendChild(docLink);\n",
              "      }\n",
              "    </script>\n",
              "  </div>\n",
              "\n",
              "\n",
              "<div id=\"df-818abd2f-9520-46a6-9152-7ab2a46e26af\">\n",
              "  <button class=\"colab-df-quickchart\" onclick=\"quickchart('df-818abd2f-9520-46a6-9152-7ab2a46e26af')\"\n",
              "            title=\"Suggest charts\"\n",
              "            style=\"display:none;\">\n",
              "\n",
              "<svg xmlns=\"http://www.w3.org/2000/svg\" height=\"24px\"viewBox=\"0 0 24 24\"\n",
              "     width=\"24px\">\n",
              "    <g>\n",
              "        <path d=\"M19 3H5c-1.1 0-2 .9-2 2v14c0 1.1.9 2 2 2h14c1.1 0 2-.9 2-2V5c0-1.1-.9-2-2-2zM9 17H7v-7h2v7zm4 0h-2V7h2v10zm4 0h-2v-4h2v4z\"/>\n",
              "    </g>\n",
              "</svg>\n",
              "  </button>\n",
              "\n",
              "<style>\n",
              "  .colab-df-quickchart {\n",
              "      --bg-color: #E8F0FE;\n",
              "      --fill-color: #1967D2;\n",
              "      --hover-bg-color: #E2EBFA;\n",
              "      --hover-fill-color: #174EA6;\n",
              "      --disabled-fill-color: #AAA;\n",
              "      --disabled-bg-color: #DDD;\n",
              "  }\n",
              "\n",
              "  [theme=dark] .colab-df-quickchart {\n",
              "      --bg-color: #3B4455;\n",
              "      --fill-color: #D2E3FC;\n",
              "      --hover-bg-color: #434B5C;\n",
              "      --hover-fill-color: #FFFFFF;\n",
              "      --disabled-bg-color: #3B4455;\n",
              "      --disabled-fill-color: #666;\n",
              "  }\n",
              "\n",
              "  .colab-df-quickchart {\n",
              "    background-color: var(--bg-color);\n",
              "    border: none;\n",
              "    border-radius: 50%;\n",
              "    cursor: pointer;\n",
              "    display: none;\n",
              "    fill: var(--fill-color);\n",
              "    height: 32px;\n",
              "    padding: 0;\n",
              "    width: 32px;\n",
              "  }\n",
              "\n",
              "  .colab-df-quickchart:hover {\n",
              "    background-color: var(--hover-bg-color);\n",
              "    box-shadow: 0 1px 2px rgba(60, 64, 67, 0.3), 0 1px 3px 1px rgba(60, 64, 67, 0.15);\n",
              "    fill: var(--button-hover-fill-color);\n",
              "  }\n",
              "\n",
              "  .colab-df-quickchart-complete:disabled,\n",
              "  .colab-df-quickchart-complete:disabled:hover {\n",
              "    background-color: var(--disabled-bg-color);\n",
              "    fill: var(--disabled-fill-color);\n",
              "    box-shadow: none;\n",
              "  }\n",
              "\n",
              "  .colab-df-spinner {\n",
              "    border: 2px solid var(--fill-color);\n",
              "    border-color: transparent;\n",
              "    border-bottom-color: var(--fill-color);\n",
              "    animation:\n",
              "      spin 1s steps(1) infinite;\n",
              "  }\n",
              "\n",
              "  @keyframes spin {\n",
              "    0% {\n",
              "      border-color: transparent;\n",
              "      border-bottom-color: var(--fill-color);\n",
              "      border-left-color: var(--fill-color);\n",
              "    }\n",
              "    20% {\n",
              "      border-color: transparent;\n",
              "      border-left-color: var(--fill-color);\n",
              "      border-top-color: var(--fill-color);\n",
              "    }\n",
              "    30% {\n",
              "      border-color: transparent;\n",
              "      border-left-color: var(--fill-color);\n",
              "      border-top-color: var(--fill-color);\n",
              "      border-right-color: var(--fill-color);\n",
              "    }\n",
              "    40% {\n",
              "      border-color: transparent;\n",
              "      border-right-color: var(--fill-color);\n",
              "      border-top-color: var(--fill-color);\n",
              "    }\n",
              "    60% {\n",
              "      border-color: transparent;\n",
              "      border-right-color: var(--fill-color);\n",
              "    }\n",
              "    80% {\n",
              "      border-color: transparent;\n",
              "      border-right-color: var(--fill-color);\n",
              "      border-bottom-color: var(--fill-color);\n",
              "    }\n",
              "    90% {\n",
              "      border-color: transparent;\n",
              "      border-bottom-color: var(--fill-color);\n",
              "    }\n",
              "  }\n",
              "</style>\n",
              "\n",
              "  <script>\n",
              "    async function quickchart(key) {\n",
              "      const quickchartButtonEl =\n",
              "        document.querySelector('#' + key + ' button');\n",
              "      quickchartButtonEl.disabled = true;  // To prevent multiple clicks.\n",
              "      quickchartButtonEl.classList.add('colab-df-spinner');\n",
              "      try {\n",
              "        const charts = await google.colab.kernel.invokeFunction(\n",
              "            'suggestCharts', [key], {});\n",
              "      } catch (error) {\n",
              "        console.error('Error during call to suggestCharts:', error);\n",
              "      }\n",
              "      quickchartButtonEl.classList.remove('colab-df-spinner');\n",
              "      quickchartButtonEl.classList.add('colab-df-quickchart-complete');\n",
              "    }\n",
              "    (() => {\n",
              "      let quickchartButtonEl =\n",
              "        document.querySelector('#df-818abd2f-9520-46a6-9152-7ab2a46e26af button');\n",
              "      quickchartButtonEl.style.display =\n",
              "        google.colab.kernel.accessAllowed ? 'block' : 'none';\n",
              "    })();\n",
              "  </script>\n",
              "</div>\n",
              "    </div>\n",
              "  </div>\n"
            ],
            "application/vnd.google.colaboratory.intrinsic+json": {
              "type": "dataframe",
              "variable_name": "df_per_patient",
              "repr_error": "0"
            }
          },
          "metadata": {},
          "execution_count": 15
        }
      ]
    },
    {
      "cell_type": "markdown",
      "source": [
        "### Analyze Data"
      ],
      "metadata": {
        "id": "muvTls5jJpcY"
      }
    },
    {
      "cell_type": "markdown",
      "source": [
        "Let's visualize the drugs and dosages administred to a single patient and draw patterns for insight?"
      ],
      "metadata": {
        "id": "v5qImMCFKsVy"
      }
    },
    {
      "cell_type": "code",
      "source": [
        "df_43735 = df_per_patient[df_per_patient['subject_id'] == 43735]"
      ],
      "metadata": {
        "id": "0ZBLCAJbJsEE"
      },
      "execution_count": null,
      "outputs": []
    },
    {
      "cell_type": "code",
      "source": [
        "df_43735.groupby(['drug']).size().reset_index(name='counts').hist()"
      ],
      "metadata": {
        "colab": {
          "base_uri": "https://localhost:8080/",
          "height": 469
        },
        "id": "1rbjaicuM8jZ",
        "outputId": "7f7f2a1d-e8bc-4d58-8c23-900d6d1f1594"
      },
      "execution_count": null,
      "outputs": [
        {
          "output_type": "execute_result",
          "data": {
            "text/plain": [
              "array([[<Axes: title={'center': 'counts'}>]], dtype=object)"
            ]
          },
          "metadata": {},
          "execution_count": 44
        },
        {
          "output_type": "display_data",
          "data": {
            "text/plain": [
              "<Figure size 640x480 with 1 Axes>"
            ],
            "image/png": "[encoded data removed]"
          },
          "metadata": {}
        }
      ]
    }
  ]
}