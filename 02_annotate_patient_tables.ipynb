{
  "nbformat": 4,
  "nbformat_minor": 0,
  "metadata": {
    "colab": {
      "provenance": []
    },
    "kernelspec": {
      "name": "python3",
      "display_name": "Python 3"
    },
    "language_info": {
      "name": "python"
    }
  },
  "cells": [
    {
      "cell_type": "code",
      "execution_count": null,
      "metadata": {
        "colab": {
          "base_uri": "https://localhost:8080/"
        },
        "id": "ojkcaLe9mjao",
        "outputId": "e649123c-18c7-4190-c9a6-04274245709b"
      },
      "outputs": [
        {
          "output_type": "stream",
          "name": "stdout",
          "text": [
            "Mounted at /content/drive\n"
          ]
        }
      ],
      "source": [
        "from google.colab import drive\n",
        "drive.mount('/content/drive')"
      ]
    },
    {
      "cell_type": "markdown",
      "source": [
        "### Set-up Environment"
      ],
      "metadata": {
        "id": "A28LZNwRNvfY"
      }
    },
    {
      "cell_type": "code",
      "source": [
        "import os\n",
        "PATH_TO_FOLDER = '/content/drive/MyDrive/2024/Projects/IDS/supervision/KEN4131/Team 16 - Tab Anno'\n",
        "os.chdir(PATH_TO_FOLDER)"
      ],
      "metadata": {
        "id": "S7pR0X5nmq5R"
      },
      "execution_count": null,
      "outputs": []
    },
    {
      "cell_type": "code",
      "source": [
        "os.listdir()"
      ],
      "metadata": {
        "colab": {
          "base_uri": "https://localhost:8080/"
        },
        "id": "tD_IXy33mvVf",
        "outputId": "fa79497d-dd37-453c-bc0e-4aab5d947436"
      },
      "execution_count": null,
      "outputs": [
        {
          "output_type": "execute_result",
          "data": {
            "text/plain": [
              "['Student Master Projects 2024 - ShervinMehryar.gdoc',\n",
              " 'presentations',\n",
              " 'reports',\n",
              " 'Project Plan - Team 16 TA.gsheet',\n",
              " 'data',\n",
              " 'code']"
            ]
          },
          "metadata": {},
          "execution_count": 3
        }
      ]
    },
    {
      "cell_type": "code",
      "source": [
        "import pandas as pd\n",
        "import pickle"
      ],
      "metadata": {
        "id": "OKkGyyimmw9n"
      },
      "execution_count": null,
      "outputs": []
    },
    {
      "cell_type": "code",
      "source": [
        "data_path = './data/'"
      ],
      "metadata": {
        "id": "XFYft7wDm1ll"
      },
      "execution_count": null,
      "outputs": []
    },
    {
      "cell_type": "markdown",
      "source": [
        "### Load Patient Tables"
      ],
      "metadata": {
        "id": "iTs1d3mj7h7M"
      }
    },
    {
      "cell_type": "code",
      "source": [
        "# Select Patiant ID\n",
        "patient_id = 43735"
      ],
      "metadata": {
        "id": "4YU0pBj1nvej"
      },
      "execution_count": null,
      "outputs": []
    },
    {
      "cell_type": "code",
      "source": [
        "df_per_patient = pd.read_csv(data_path+'patients/'+str(patient_id)+'/drug_raw.csv' ).drop(columns ='Unnamed: 0')"
      ],
      "metadata": {
        "id": "tbgq36E98mo3"
      },
      "execution_count": null,
      "outputs": []
    },
    {
      "cell_type": "code",
      "source": [
        "df_per_patient.head()"
      ],
      "metadata": {
        "colab": {
          "base_uri": "https://localhost:8080/",
          "height": 206
        },
        "id": "N0kjQwbn8y8v",
        "outputId": "5938ee48-b68d-4128-8eb3-a964520b1ffb"
      },
      "execution_count": null,
      "outputs": [
        {
          "output_type": "execute_result",
          "data": {
            "text/plain": [
              "   hadm_id  icustay_id drug_type                         drug  \\\n",
              "0   112662         NaN      MAIN  Pneumococcal Vac Polyvalent   \n",
              "1   112662         NaN      MAIN  Heparin Flush (10 units/ml)   \n",
              "2   112662         NaN      MAIN                Multivitamins   \n",
              "3   112662         NaN      MAIN              Ferrous Sulfate   \n",
              "4   112662         NaN      MAIN      Ipratropium Bromide Neb   \n",
              "\n",
              "                prod_strength dose_val_rx dose_unit_rx form_val_disp route  \n",
              "0            25mcg/0.5mL Vial         0.5           mL             1    IM  \n",
              "1  10 Units/mL - 5 mL Syringe           1           mL           0.2    IV  \n",
              "2                    1 Tablet           1          TAB             1    PO  \n",
              "3               325 mg Tablet         325           mg             1    PO  \n",
              "4                  2.5mL Vial           1          NEB             1    IH  "
            ],
            "text/html": [
              "\n",
              "  <div id=\"df-92310778-428b-4ad5-849e-aaa6cfa69279\" class=\"colab-df-container\">\n",
              "    <div>\n",
              "<style scoped>\n",
              "    .dataframe tbody tr th:only-of-type {\n",
              "        vertical-align: middle;\n",
              "    }\n",
              "\n",
              "    .dataframe tbody tr th {\n",
              "        vertical-align: top;\n",
              "    }\n",
              "\n",
              "    .dataframe thead th {\n",
              "        text-align: right;\n",
              "    }\n",
              "</style>\n",
              "<table border=\"1\" class=\"dataframe\">\n",
              "  <thead>\n",
              "    <tr style=\"text-align: right;\">\n",
              "      <th></th>\n",
              "      <th>hadm_id</th>\n",
              "      <th>icustay_id</th>\n",
              "      <th>drug_type</th>\n",
              "      <th>drug</th>\n",
              "      <th>prod_strength</th>\n",
              "      <th>dose_val_rx</th>\n",
              "      <th>dose_unit_rx</th>\n",
              "      <th>form_val_disp</th>\n",
              "      <th>route</th>\n",
              "    </tr>\n",
              "  </thead>\n",
              "  <tbody>\n",
              "    <tr>\n",
              "      <th>0</th>\n",
              "      <td>112662</td>\n",
              "      <td>NaN</td>\n",
              "      <td>MAIN</td>\n",
              "      <td>Pneumococcal Vac Polyvalent</td>\n",
              "      <td>25mcg/0.5mL Vial</td>\n",
              "      <td>0.5</td>\n",
              "      <td>mL</td>\n",
              "      <td>1</td>\n",
              "      <td>IM</td>\n",
              "    </tr>\n",
              "    <tr>\n",
              "      <th>1</th>\n",
              "      <td>112662</td>\n",
              "      <td>NaN</td>\n",
              "      <td>MAIN</td>\n",
              "      <td>Heparin Flush (10 units/ml)</td>\n",
              "      <td>10 Units/mL - 5 mL Syringe</td>\n",
              "      <td>1</td>\n",
              "      <td>mL</td>\n",
              "      <td>0.2</td>\n",
              "      <td>IV</td>\n",
              "    </tr>\n",
              "    <tr>\n",
              "      <th>2</th>\n",
              "      <td>112662</td>\n",
              "      <td>NaN</td>\n",
              "      <td>MAIN</td>\n",
              "      <td>Multivitamins</td>\n",
              "      <td>1 Tablet</td>\n",
              "      <td>1</td>\n",
              "      <td>TAB</td>\n",
              "      <td>1</td>\n",
              "      <td>PO</td>\n",
              "    </tr>\n",
              "    <tr>\n",
              "      <th>3</th>\n",
              "      <td>112662</td>\n",
              "      <td>NaN</td>\n",
              "      <td>MAIN</td>\n",
              "      <td>Ferrous Sulfate</td>\n",
              "      <td>325 mg Tablet</td>\n",
              "      <td>325</td>\n",
              "      <td>mg</td>\n",
              "      <td>1</td>\n",
              "      <td>PO</td>\n",
              "    </tr>\n",
              "    <tr>\n",
              "      <th>4</th>\n",
              "      <td>112662</td>\n",
              "      <td>NaN</td>\n",
              "      <td>MAIN</td>\n",
              "      <td>Ipratropium Bromide Neb</td>\n",
              "      <td>2.5mL Vial</td>\n",
              "      <td>1</td>\n",
              "      <td>NEB</td>\n",
              "      <td>1</td>\n",
              "      <td>IH</td>\n",
              "    </tr>\n",
              "  </tbody>\n",
              "</table>\n",
              "</div>\n",
              "    <div class=\"colab-df-buttons\">\n",
              "\n",
              "  <div class=\"colab-df-container\">\n",
              "    <button class=\"colab-df-convert\" onclick=\"convertToInteractive('df-92310778-428b-4ad5-849e-aaa6cfa69279')\"\n",
              "            title=\"Convert this dataframe to an interactive table.\"\n",
              "            style=\"display:none;\">\n",
              "\n",
              "  <svg xmlns=\"http://www.w3.org/2000/svg\" height=\"24px\" viewBox=\"0 -960 960 960\">\n",
              "    <path d=\"M120-120v-720h720v720H120Zm60-500h600v-160H180v160Zm220 220h160v-160H400v160Zm0 220h160v-160H400v160ZM180-400h160v-160H180v160Zm440 0h160v-160H620v160ZM180-180h160v-160H180v160Zm440 0h160v-160H620v160Z\"/>\n",
              "  </svg>\n",
              "    </button>\n",
              "\n",
              "  <style>\n",
              "    .colab-df-container {\n",
              "      display:flex;\n",
              "      gap: 12px;\n",
              "    }\n",
              "\n",
              "    .colab-df-convert {\n",
              "      background-color: #E8F0FE;\n",
              "      border: none;\n",
              "      border-radius: 50%;\n",
              "      cursor: pointer;\n",
              "      display: none;\n",
              "      fill: #1967D2;\n",
              "      height: 32px;\n",
              "      padding: 0 0 0 0;\n",
              "      width: 32px;\n",
              "    }\n",
              "\n",
              "    .colab-df-convert:hover {\n",
              "      background-color: #E2EBFA;\n",
              "      box-shadow: 0px 1px 2px rgba(60, 64, 67, 0.3), 0px 1px 3px 1px rgba(60, 64, 67, 0.15);\n",
              "      fill: #174EA6;\n",
              "    }\n",
              "\n",
              "    .colab-df-buttons div {\n",
              "      margin-bottom: 4px;\n",
              "    }\n",
              "\n",
              "    [theme=dark] .colab-df-convert {\n",
              "      background-color: #3B4455;\n",
              "      fill: #D2E3FC;\n",
              "    }\n",
              "\n",
              "    [theme=dark] .colab-df-convert:hover {\n",
              "      background-color: #434B5C;\n",
              "      box-shadow: 0px 1px 3px 1px rgba(0, 0, 0, 0.15);\n",
              "      filter: drop-shadow(0px 1px 2px rgba(0, 0, 0, 0.3));\n",
              "      fill: #FFFFFF;\n",
              "    }\n",
              "  </style>\n",
              "\n",
              "    <script>\n",
              "      const buttonEl =\n",
              "        document.querySelector('#df-92310778-428b-4ad5-849e-aaa6cfa69279 button.colab-df-convert');\n",
              "      buttonEl.style.display =\n",
              "        google.colab.kernel.accessAllowed ? 'block' : 'none';\n",
              "\n",
              "      async function convertToInteractive(key) {\n",
              "        const element = document.querySelector('#df-92310778-428b-4ad5-849e-aaa6cfa69279');\n",
              "        const dataTable =\n",
              "          await google.colab.kernel.invokeFunction('convertToInteractive',\n",
              "                                                    [key], {});\n",
              "        if (!dataTable) return;\n",
              "\n",
              "        const docLinkHtml = 'Like what you see? Visit the ' +\n",
              "          '<a target=\"_blank\" href=https://colab.research.google.com/notebooks/data_table.ipynb>data table notebook</a>'\n",
              "          + ' to learn more about interactive tables.';\n",
              "        element.innerHTML = '';\n",
              "        dataTable['output_type'] = 'display_data';\n",
              "        await google.colab.output.renderOutput(dataTable, element);\n",
              "        const docLink = document.createElement('div');\n",
              "        docLink.innerHTML = docLinkHtml;\n",
              "        element.appendChild(docLink);\n",
              "      }\n",
              "    </script>\n",
              "  </div>\n",
              "\n",
              "\n",
              "<div id=\"df-6e249c0c-a0bc-4062-b4ac-edaabcc67a72\">\n",
              "  <button class=\"colab-df-quickchart\" onclick=\"quickchart('df-6e249c0c-a0bc-4062-b4ac-edaabcc67a72')\"\n",
              "            title=\"Suggest charts\"\n",
              "            style=\"display:none;\">\n",
              "\n",
              "<svg xmlns=\"http://www.w3.org/2000/svg\" height=\"24px\"viewBox=\"0 0 24 24\"\n",
              "     width=\"24px\">\n",
              "    <g>\n",
              "        <path d=\"M19 3H5c-1.1 0-2 .9-2 2v14c0 1.1.9 2 2 2h14c1.1 0 2-.9 2-2V5c0-1.1-.9-2-2-2zM9 17H7v-7h2v7zm4 0h-2V7h2v10zm4 0h-2v-4h2v4z\"/>\n",
              "    </g>\n",
              "</svg>\n",
              "  </button>\n",
              "\n",
              "<style>\n",
              "  .colab-df-quickchart {\n",
              "      --bg-color: #E8F0FE;\n",
              "      --fill-color: #1967D2;\n",
              "      --hover-bg-color: #E2EBFA;\n",
              "      --hover-fill-color: #174EA6;\n",
              "      --disabled-fill-color: #AAA;\n",
              "      --disabled-bg-color: #DDD;\n",
              "  }\n",
              "\n",
              "  [theme=dark] .colab-df-quickchart {\n",
              "      --bg-color: #3B4455;\n",
              "      --fill-color: #D2E3FC;\n",
              "      --hover-bg-color: #434B5C;\n",
              "      --hover-fill-color: #FFFFFF;\n",
              "      --disabled-bg-color: #3B4455;\n",
              "      --disabled-fill-color: #666;\n",
              "  }\n",
              "\n",
              "  .colab-df-quickchart {\n",
              "    background-color: var(--bg-color);\n",
              "    border: none;\n",
              "    border-radius: 50%;\n",
              "    cursor: pointer;\n",
              "    display: none;\n",
              "    fill: var(--fill-color);\n",
              "    height: 32px;\n",
              "    padding: 0;\n",
              "    width: 32px;\n",
              "  }\n",
              "\n",
              "  .colab-df-quickchart:hover {\n",
              "    background-color: var(--hover-bg-color);\n",
              "    box-shadow: 0 1px 2px rgba(60, 64, 67, 0.3), 0 1px 3px 1px rgba(60, 64, 67, 0.15);\n",
              "    fill: var(--button-hover-fill-color);\n",
              "  }\n",
              "\n",
              "  .colab-df-quickchart-complete:disabled,\n",
              "  .colab-df-quickchart-complete:disabled:hover {\n",
              "    background-color: var(--disabled-bg-color);\n",
              "    fill: var(--disabled-fill-color);\n",
              "    box-shadow: none;\n",
              "  }\n",
              "\n",
              "  .colab-df-spinner {\n",
              "    border: 2px solid var(--fill-color);\n",
              "    border-color: transparent;\n",
              "    border-bottom-color: var(--fill-color);\n",
              "    animation:\n",
              "      spin 1s steps(1) infinite;\n",
              "  }\n",
              "\n",
              "  @keyframes spin {\n",
              "    0% {\n",
              "      border-color: transparent;\n",
              "      border-bottom-color: var(--fill-color);\n",
              "      border-left-color: var(--fill-color);\n",
              "    }\n",
              "    20% {\n",
              "      border-color: transparent;\n",
              "      border-left-color: var(--fill-color);\n",
              "      border-top-color: var(--fill-color);\n",
              "    }\n",
              "    30% {\n",
              "      border-color: transparent;\n",
              "      border-left-color: var(--fill-color);\n",
              "      border-top-color: var(--fill-color);\n",
              "      border-right-color: var(--fill-color);\n",
              "    }\n",
              "    40% {\n",
              "      border-color: transparent;\n",
              "      border-right-color: var(--fill-color);\n",
              "      border-top-color: var(--fill-color);\n",
              "    }\n",
              "    60% {\n",
              "      border-color: transparent;\n",
              "      border-right-color: var(--fill-color);\n",
              "    }\n",
              "    80% {\n",
              "      border-color: transparent;\n",
              "      border-right-color: var(--fill-color);\n",
              "      border-bottom-color: var(--fill-color);\n",
              "    }\n",
              "    90% {\n",
              "      border-color: transparent;\n",
              "      border-bottom-color: var(--fill-color);\n",
              "    }\n",
              "  }\n",
              "</style>\n",
              "\n",
              "  <script>\n",
              "    async function quickchart(key) {\n",
              "      const quickchartButtonEl =\n",
              "        document.querySelector('#' + key + ' button');\n",
              "      quickchartButtonEl.disabled = true;  // To prevent multiple clicks.\n",
              "      quickchartButtonEl.classList.add('colab-df-spinner');\n",
              "      try {\n",
              "        const charts = await google.colab.kernel.invokeFunction(\n",
              "            'suggestCharts', [key], {});\n",
              "      } catch (error) {\n",
              "        console.error('Error during call to suggestCharts:', error);\n",
              "      }\n",
              "      quickchartButtonEl.classList.remove('colab-df-spinner');\n",
              "      quickchartButtonEl.classList.add('colab-df-quickchart-complete');\n",
              "    }\n",
              "    (() => {\n",
              "      let quickchartButtonEl =\n",
              "        document.querySelector('#df-6e249c0c-a0bc-4062-b4ac-edaabcc67a72 button');\n",
              "      quickchartButtonEl.style.display =\n",
              "        google.colab.kernel.accessAllowed ? 'block' : 'none';\n",
              "    })();\n",
              "  </script>\n",
              "</div>\n",
              "    </div>\n",
              "  </div>\n"
            ],
            "application/vnd.google.colaboratory.intrinsic+json": {
              "type": "dataframe",
              "variable_name": "df_per_patient",
              "summary": "{\n  \"name\": \"df_per_patient\",\n  \"rows\": 63,\n  \"fields\": [\n    {\n      \"column\": \"hadm_id\",\n      \"properties\": {\n        \"dtype\": \"number\",\n        \"std\": 0,\n        \"min\": 112662,\n        \"max\": 112662,\n        \"num_unique_values\": 1,\n        \"samples\": [\n          112662\n        ],\n        \"semantic_type\": \"\",\n        \"description\": \"\"\n      }\n    },\n    {\n      \"column\": \"icustay_id\",\n      \"properties\": {\n        \"dtype\": \"number\",\n        \"std\": 4874.261405587517,\n        \"min\": 283181.0,\n        \"max\": 293363.0,\n        \"num_unique_values\": 2,\n        \"samples\": [\n          283181.0\n        ],\n        \"semantic_type\": \"\",\n        \"description\": \"\"\n      }\n    },\n    {\n      \"column\": \"drug_type\",\n      \"properties\": {\n        \"dtype\": \"category\",\n        \"num_unique_values\": 2,\n        \"samples\": [\n          \"BASE\"\n        ],\n        \"semantic_type\": \"\",\n        \"description\": \"\"\n      }\n    },\n    {\n      \"column\": \"drug\",\n      \"properties\": {\n        \"dtype\": \"string\",\n        \"num_unique_values\": 41,\n        \"samples\": [\n          \"Chlorhexidine Gluconate 0.12% Oral Rinse\"\n        ],\n        \"semantic_type\": \"\",\n        \"description\": \"\"\n      }\n    },\n    {\n      \"column\": \"prod_strength\",\n      \"properties\": {\n        \"dtype\": \"string\",\n        \"num_unique_values\": 43,\n        \"samples\": [\n          \"2g Vial\"\n        ],\n        \"semantic_type\": \"\",\n        \"description\": \"\"\n      }\n    },\n    {\n      \"column\": \"dose_val_rx\",\n      \"properties\": {\n        \"dtype\": \"category\",\n        \"num_unique_values\": 22,\n        \"samples\": [\n          \"0.5\"\n        ],\n        \"semantic_type\": \"\",\n        \"description\": \"\"\n      }\n    },\n    {\n      \"column\": \"dose_unit_rx\",\n      \"properties\": {\n        \"dtype\": \"category\",\n        \"num_unique_values\": 10,\n        \"samples\": [\n          \"gm\"\n        ],\n        \"semantic_type\": \"\",\n        \"description\": \"\"\n      }\n    },\n    {\n      \"column\": \"form_val_disp\",\n      \"properties\": {\n        \"dtype\": \"category\",\n        \"num_unique_values\": 13,\n        \"samples\": [\n          \"250\"\n        ],\n        \"semantic_type\": \"\",\n        \"description\": \"\"\n      }\n    },\n    {\n      \"column\": \"route\",\n      \"properties\": {\n        \"dtype\": \"category\",\n        \"num_unique_values\": 7,\n        \"samples\": [\n          \"IM\"\n        ],\n        \"semantic_type\": \"\",\n        \"description\": \"\"\n      }\n    }\n  ]\n}"
            }
          },
          "metadata": {},
          "execution_count": 18
        }
      ]
    },
    {
      "cell_type": "markdown",
      "source": [
        "### Annotate Column Types"
      ],
      "metadata": {
        "id": "Xlgh7LfD8-9L"
      }
    },
    {
      "cell_type": "code",
      "source": [
        "cta_dict = dict({'col': [],\n",
        "                 'label': []})\n",
        "\n",
        "\n",
        "# column 1, annotate with SPHN's Administrative Case\n",
        "cta_dict['col']   += ['hadm_id']\n",
        "cta_dict['label'] += ['https://biomedit.ch/rdf/sphn-schema/sphn#AdministrativeCase']\n",
        "\n",
        "# column 4, annotate with SPHN's Substance\n",
        "cta_dict['col']   += ['drug']\n",
        "cta_dict['label'] += ['https://biomedit.ch/rdf/sphn-schema/sphn#Substance']\n",
        "\n",
        "\n",
        "# complete the rest of the predicates ...\n",
        "\n",
        "# save to file\n",
        "pd.DataFrame(cta_dict).to_csv(data_path+'patients/'+str(patient_id)+'/cta_anno.csv' )"
      ],
      "metadata": {
        "id": "5B9VDdsT9CGY"
      },
      "execution_count": null,
      "outputs": []
    },
    {
      "cell_type": "markdown",
      "source": [
        "### Annotate Predicate Types"
      ],
      "metadata": {
        "id": "mESEcDh79Ch3"
      }
    },
    {
      "cell_type": "code",
      "source": [
        "cpa_dict = dict({'source': [],\n",
        "                 'target': [],\n",
        "                 'label': []})\n",
        "\n",
        "# relation between column drug and column dose_val_rx, annotate with SPHN's SPHN's has value\n",
        "cpa_dict['source']   += ['drug']\n",
        "cpa_dict['target']   += ['dose_val_rx']\n",
        "cpa_dict['label']    += ['https://biomedit.ch/rdf/sphn-schema/sphn#hasValue']\n",
        "\n",
        "# complete the rest of the predicates ...\n",
        "\n",
        "\n",
        "# save to file\n",
        "pd.DataFrame(cpa_dict).to_csv(data_path+'patients/'+str(patient_id)+'/cpa_anno.csv' )\n"
      ],
      "metadata": {
        "id": "cL1DtXND9Fuc"
      },
      "execution_count": null,
      "outputs": []
    },
    {
      "cell_type": "markdown",
      "source": [
        "### Annotate Entity Types"
      ],
      "metadata": {
        "id": "qgETuDBv9GL0"
      }
    },
    {
      "cell_type": "code",
      "source": [
        "cea_dict = dict({'entity': [],\n",
        "                'label' : [] })\n",
        "\n",
        "# entity 1 in column 4, annotate with BioPortal URI\n",
        "cea_dict['entity'] += ['Pneumococcal Vac Polyvalent']\n",
        "cea_dict['label']  += ['http://purl.bioontology.org/ontology/PDQ/CDR0000042885']\n",
        "\n",
        "# save to file\n",
        "pd.DataFrame(cea_dict).to_csv(data_path+'patients/'+str(patient_id)+'/cea_anno.csv' )\n"
      ],
      "metadata": {
        "id": "ApsfX9l79IIM"
      },
      "execution_count": null,
      "outputs": []
    }
  ]
}